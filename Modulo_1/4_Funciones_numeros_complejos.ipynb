{
 "cells": [
  {
   "cell_type": "markdown",
   "metadata": {},
   "source": [
    "# Hagamos un recordatorio de lo que vamos haciendo hasta el momento"
   ]
  },
  {
   "cell_type": "markdown",
   "metadata": {},
   "source": [
    "# Programas y Memoria en Python\n",
    "\n",
    "Los programas están formados por código y datos. Pero a nivel interno de la memoria del ordenador no son más que una secuencia de bits. La interpretación de estos bits depende del lenguaje de programación, que almacena en la memoria no sólo el puro dato sino distintos metadatos.\n",
    "\n",
    "Cada «trozo» de memoria contiene realmente un objeto, de ahí que se diga que en Python todo son objetos. Y cada objeto contiene, al menos, los siguientes campos:\n",
    "\n",
    "1. **Un tipo del dato almacenado.**\n",
    "2. **Un identificador único para distinguirlo de otros objetos.**\n",
    "3. **Un valor consistente con su tipo.**\n",
    "\n",
    "## Tipos de Datos\n",
    "\n",
    "A continuación se muestran los distintos tipos de datos que podemos encontrar en Python, sin incluir aquellos que proveen paquetes externos:\n",
    "\n",
    "| Nombre      | Tipo    | Ejemplos                            |\n",
    "|-------------|---------|-------------------------------------|\n",
    "| Booleano    | `bool`  | `True`, `False`                     |\n",
    "| Entero      | `int`   | `21`, `34500`, `34_500`             |\n",
    "| Flotante    | `float` | `3.14`, `1.5e3`                     |\n",
    "| Complejo    | `complex` | `2j`, `3 + 5j`                    |\n",
    "| Cadena      | `str`   | `'tfn'`, `'''tenerife - islas canarias'''` |\n",
    "| Tupla       | `tuple` | `(1, 3, 5)`                         |\n",
    "| Lista       | `list`  | `['Chrome', 'Firefox']`             |\n",
    "| Conjunto    | `set`   | `set([2, 4, 6])`                    |\n",
    "| Diccionario | `dict`  | `{'Chrome': 'v79' , 'Firefox': 'v71'}` |\n",
    "\n",
    "## Variables\n",
    "\n",
    "Las variables son fundamentales ya que permiten definir nombres para los valores que tenemos en memoria y que vamos a usar en nuestro programa.\n",
    "\n",
    "### Reglas para Nombrar Variables\n",
    "\n",
    "En Python existen una serie de reglas para los nombres de variables:\n",
    "\n",
    "- Sólo pueden contener los siguientes caracteres:\n",
    "  - Letras minúsculas.\n",
    "  - Letras mayúsculas.\n",
    "  - Dígitos.\n",
    "  - Guiones bajos (_).\n",
    "- Deben empezar con una letra o un guión bajo, nunca con un dígito.\n",
    "- No pueden ser una palabra reservada del lenguaje («keywords»).\n",
    "\n",
    "Podemos obtener un listado de las palabras reservadas del lenguaje de la siguiente forma:\n",
    "\n",
    "\n"
   ]
  },
  {
   "cell_type": "markdown",
   "metadata": {},
   "source": [
    "## Es más ya utilizamos ciertas palabras reservadas"
   ]
  },
  {
   "cell_type": "code",
   "execution_count": 1,
   "metadata": {},
   "outputs": [
    {
     "name": "stdout",
     "output_type": "stream",
     "text": [
      "\n",
      "Here is a list of the Python keywords.  Enter any keyword to get more help.\n",
      "\n",
      "False               class               from                or\n",
      "None                continue            global              pass\n",
      "True                def                 if                  raise\n",
      "and                 del                 import              return\n",
      "as                  elif                in                  try\n",
      "assert              else                is                  while\n",
      "async               except              lambda              with\n",
      "await               finally             nonlocal            yield\n",
      "break               for                 not                 \n",
      "\n"
     ]
    }
   ],
   "source": [
    "help('keywords')"
   ]
  },
  {
   "cell_type": "markdown",
   "metadata": {},
   "source": [
    "## Convenciones para nombres de variables\n",
    "\n",
    "Se utiliza el llamado snake_case en el que utilizamos caracteres en minúsculas (incluyendo dígitos si procede) junto con guiones bajos – cuando sean necesarios para su legibilidad, \n",
    "\n",
    "Por ejemplo, para nombrar una variable que almacene el número de canciones en nuestro ordenador, podríamos usar num_songs.\n",
    "\n",
    "Esta convención, y muchas otras, están definidas en un documento denominado PEP 8. Se trata de una guía de estilo para escribir código en Python. Los PEPs son las propuestas que se hacen para la mejora del lenguaje.\n",
    "\n",
    "Sabemos que su valor es constante de 300.000 km/s. En el caso de las constantes utilizamos mayúsculas (incluyendo guiones bajos si es necesario) para nombrarlas. Para la velocidad de la luz nuestra constante se podría llamar: LIGHT_SPEED.\n",
    "\n",
    "**Elegir buenos nombres**"
   ]
  },
  {
   "cell_type": "markdown",
   "metadata": {},
   "source": [
    "## Conocer el Valor de una Variable"
   ]
  },
  {
   "cell_type": "markdown",
   "metadata": {},
   "source": [
    "Si estamos en un intérprete («shell» o consola) de Python, basta con que usemos el nombre de la variable:\n",
    "   ```python\n",
    "   final_stock = 38934\n",
    "   final_stock"
   ]
  },
  {
   "cell_type": "markdown",
   "metadata": {},
   "source": [
    "Si estamos escribiendo un programa desde el editor, debemos hacer uso de print():"
   ]
  },
  {
   "cell_type": "markdown",
   "metadata": {},
   "source": [
    "### Conocer el tipo de una variable\n",
    "Para poder descubrir el tipo de un literal o una variable, Python nos ofrece la función type(). Veamos algunos ejemplos de su uso:"
   ]
  },
  {
   "cell_type": "markdown",
   "metadata": {},
   "source": [
    "### Sin darnos cuenta tambien ya vimos el concepto de mutabilidad"
   ]
  },
  {
   "cell_type": "markdown",
   "metadata": {},
   "source": [
    "Las variables son nombres, no lugares. Detrás de esta frase se esconde la reflexión de que cuando asignamos un valor a una variable, lo que realmente está ocurriendo es que se hace apuntar el nombre de la variable a una zona de memoria en el que se representa el objeto (con su valor)."
   ]
  },
  {
   "cell_type": "code",
   "execution_count": 2,
   "metadata": {},
   "outputs": [],
   "source": [
    "a = 5"
   ]
  },
  {
   "cell_type": "markdown",
   "metadata": {},
   "source": [
    "Si ahora «copiamos» el valor de a en otra variable b se podría esperar que hubiera otro espacio en memoria para dicho valor, pero como ya hemos dicho, son referencias a memoria:"
   ]
  },
  {
   "cell_type": "code",
   "execution_count": 3,
   "metadata": {},
   "outputs": [],
   "source": [
    "b = a"
   ]
  },
  {
   "cell_type": "code",
   "execution_count": 4,
   "metadata": {},
   "outputs": [
    {
     "data": {
      "text/plain": [
       "1853396287856"
      ]
     },
     "execution_count": 4,
     "metadata": {},
     "output_type": "execute_result"
    }
   ],
   "source": [
    "id(a)"
   ]
  },
  {
   "cell_type": "code",
   "execution_count": 5,
   "metadata": {},
   "outputs": [
    {
     "data": {
      "text/plain": [
       "1853396287856"
      ]
     },
     "execution_count": 5,
     "metadata": {},
     "output_type": "execute_result"
    }
   ],
   "source": [
    "id(b)"
   ]
  },
  {
   "cell_type": "markdown",
   "metadata": {},
   "source": [
    "Cuando la zona de memoria que ocupa el objeto se puede modificar hablamos de tipos de datos mutables. En otro caso hablamos de tipos de datos inmutables"
   ]
  },
  {
   "cell_type": "markdown",
   "metadata": {},
   "source": [
    "### Inmutables\n",
    "\n",
    "Los objetos inmutables no pueden cambiar su valor después de haber sido creados. Ejemplos de estos objetos incluyen:\n",
    "\n",
    "- `bool`\n",
    "- `int`\n",
    "- `float`\n",
    "- `str`\n",
    "- `tuple`\n",
    "\n",
    "### Mutables\n",
    "\n",
    "Los objetos mutables pueden cambiar su valor después de haber sido creados. Ejemplos de estos objetos incluyen:\n",
    "\n",
    "- `list`\n",
    "- `set`\n",
    "- `dict`"
   ]
  },
  {
   "cell_type": "markdown",
   "metadata": {},
   "source": [
    "## Funciones «built-in»\n",
    "\n",
    "Hemos ido usando una serie de [funciones](https://docs.python.org/3/library/functions.html) sin ser especialmente conscientes de ello. Esto se debe a que son funciones «built-in» o incorporadas por defecto en el propio lenguaje Python.\n",
    "\n",
    "| abs()        | delattr()     | hash()         | memoryview()     | set()            |\n",
    "|--------------|---------------|----------------|-------------------|------------------|\n",
    "| all()        | dict()        | help()         | min()             | setattr()        |\n",
    "| any()        | dir()         | hex()          | next()            | slice()          |\n",
    "| ascii()      | divmod()      | id()           | object()          | sorted()         |\n",
    "| bin()        | enumerate()   | input()        | oct()             | staticmethod()   |\n",
    "| bool()       | eval()        | int()          | open()            | str()            |\n",
    "| breakpoint() | exec()        | isinstance()   | ord()             | sum()            |\n",
    "| bytearray()  | filter()      | issubclass()   | pow()             | super()          |\n",
    "| bytes()      | float()       | iter()         | print()           | tuple()          |\n",
    "| callable()   | format()      | len()          | property()        | type()           |\n",
    "| chr()        | frozenset()   | list()         | range()           | vars()           |\n",
    "| classmethod()| getattr()     | locals()       | repr()            | zip()            |\n",
    "| compile()    | globals()     | map()          | reversed()        | __import__()     |\n",
    "| complex()    | hasattr()     | max()          | round()           |                  |\n"
   ]
  },
  {
   "cell_type": "code",
   "execution_count": 7,
   "metadata": {},
   "outputs": [
    {
     "data": {
      "text/plain": [
       "3.5"
      ]
     },
     "execution_count": 7,
     "metadata": {},
     "output_type": "execute_result"
    }
   ],
   "source": []
  },
  {
   "cell_type": "code",
   "execution_count": null,
   "metadata": {},
   "outputs": [],
   "source": []
  }
 ],
 "metadata": {
  "kernelspec": {
   "display_name": "Diplomado",
   "language": "python",
   "name": "python3"
  },
  "language_info": {
   "codemirror_mode": {
    "name": "ipython",
    "version": 3
   },
   "file_extension": ".py",
   "mimetype": "text/x-python",
   "name": "python",
   "nbconvert_exporter": "python",
   "pygments_lexer": "ipython3",
   "version": "3.10.14"
  }
 },
 "nbformat": 4,
 "nbformat_minor": 2
}
