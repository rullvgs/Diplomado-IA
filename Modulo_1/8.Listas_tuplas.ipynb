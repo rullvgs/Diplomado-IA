{
 "cells": [
  {
   "cell_type": "markdown",
   "metadata": {},
   "source": [
    "# Listas y Tuplas: Creación, Manipulación, Slicing e Iteración"
   ]
  },
  {
   "cell_type": "markdown",
   "metadata": {},
   "source": [
    "# Listas "
   ]
  },
  {
   "cell_type": "markdown",
   "metadata": {},
   "source": [
    "Las listas en Python son colecciones ordenadas y mutables de elementos. Permiten almacenar diferentes tipos de datos y pueden modificarse después de su creación."
   ]
  },
  {
   "cell_type": "markdown",
   "metadata": {},
   "source": [
    "### Creación de Listas"
   ]
  },
  {
   "cell_type": "code",
   "execution_count": 1,
   "metadata": {},
   "outputs": [],
   "source": [
    "# Crear una lista vacía\n",
    "\n",
    "\n",
    "# Crear una lista con elementos\n",
    "\n",
    "\n",
    "# Crear una lista con diferentes tipos de datos\n"
   ]
  },
  {
   "cell_type": "markdown",
   "metadata": {},
   "source": [
    "### Agregar Elementos\n",
    "\n",
    "- `append(item)`: Agrega un elemento al final de la lista.\n",
    "- `insert(index, item)`: Inserta un elemento en la posición especificada.\n",
    "- `extend(iterable)`: Extiende la lista agregando todos los elementos de un iterable."
   ]
  },
  {
   "cell_type": "code",
   "execution_count": 2,
   "metadata": {},
   "outputs": [
    {
     "name": "stdout",
     "output_type": "stream",
     "text": [
      "[1, 2, 3, 4]\n",
      "[1, 'nuevo', 2, 3, 4]\n",
      "[1, 'nuevo', 2, 3, 4, 5, 6, 7]\n"
     ]
    }
   ],
   "source": [
    "lista = [1, 2, 3]\n",
    "\n",
    "# Agregar al final\n",
    "\n",
    "print(lista) \n",
    "\n",
    "# Insertar en una posición específica\n",
    "\n",
    "print(lista)  \n",
    "\n",
    "# Extender la lista\n",
    "\n",
    "print(lista)  "
   ]
  },
  {
   "cell_type": "markdown",
   "metadata": {},
   "source": [
    "### Eliminar Elementos\n",
    "\n",
    "- `remove(item)`: Elimina la primera ocurrencia del elemento especificado.\n",
    "- `pop(index)`: Elimina y devuelve el elemento en la posición especificada (por defecto, el último elemento).\n",
    "- `clear()`: Elimina todos los elementos de la lista."
   ]
  },
  {
   "cell_type": "markdown",
   "metadata": {},
   "source": []
  },
  {
   "cell_type": "code",
   "execution_count": 5,
   "metadata": {},
   "outputs": [
    {
     "name": "stdout",
     "output_type": "stream",
     "text": [
      "[1, 2, 4, 5]\n",
      "5\n",
      "[1, 2, 4]\n",
      "2\n",
      "[1, 4]\n",
      "[]\n"
     ]
    }
   ],
   "source": [
    "lista = [1, 2, 3, 4, 5]\n",
    "\n",
    "# Eliminar un elemento específico\n",
    "\n",
    "print(lista) \n",
    "\n",
    "# Eliminar el último elemento\n",
    "\n",
    "print(ultimo) \n",
    "print(lista)   \n",
    "\n",
    "# Eliminar un elemento por índice\n",
    "\n",
    "print(elemento)\n",
    "print(lista)  \n",
    "\n",
    "# Limpiar la lista\n",
    "\n",
    "print(lista)"
   ]
  },
  {
   "cell_type": "markdown",
   "metadata": {},
   "source": [
    "## Modificar un elemento de la lista"
   ]
  },
  {
   "cell_type": "code",
   "execution_count": 6,
   "metadata": {},
   "outputs": [
    {
     "name": "stdout",
     "output_type": "stream",
     "text": [
      "[4, 2, 3, 4, 5]\n"
     ]
    }
   ],
   "source": [
    "lista = [1, 2, 3, 4, 5]\n",
    "\n",
    "\n",
    "print(lista) "
   ]
  },
  {
   "cell_type": "markdown",
   "metadata": {},
   "source": [
    "## Slicing en Listas"
   ]
  },
  {
   "cell_type": "markdown",
   "metadata": {},
   "source": [
    "El slicing permite obtener sublistas a partir de una lista original.\n"
   ]
  },
  {
   "cell_type": "code",
   "execution_count": 7,
   "metadata": {},
   "outputs": [
    {
     "name": "stdout",
     "output_type": "stream",
     "text": [
      "[2, 3, 4]\n",
      "[1, 3, 5]\n",
      "[1, 2, 3]\n",
      "[3, 4, 5]\n"
     ]
    }
   ],
   "source": [
    "lista = [1, 2, 3, 4, 5]\n",
    "\n",
    "# Obtener una sublista\n",
    "\n",
    "print(sublista)\n",
    "\n",
    "# Obtener elementos con un paso específico\n",
    "\n",
    "print(sublista_paso)  \n",
    "\n",
    "# Obtener una sublista desde el inicio hasta un índice\n",
    "\n",
    "print(sublista_inicio) \n",
    "\n",
    "# Obtener una sublista desde un índice hasta el final\n",
    "\n",
    "print(sublista_final) "
   ]
  },
  {
   "cell_type": "markdown",
   "metadata": {},
   "source": [
    "# Ejercicios"
   ]
  },
  {
   "cell_type": "markdown",
   "metadata": {},
   "source": [
    "1. Crea una lista con los números del 1 al 10.\n",
    "2. Agrega el número 11 al final de la lista.\n",
    "3. Inserta el número 0 al inicio de la lista.\n",
    "4. Elimina el número 5 de la lista.\n",
    "5. Obtén una sublista con los primeros 5 elementos."
   ]
  },
  {
   "cell_type": "markdown",
   "metadata": {},
   "source": []
  },
  {
   "cell_type": "code",
   "execution_count": null,
   "metadata": {},
   "outputs": [],
   "source": []
  },
  {
   "cell_type": "code",
   "execution_count": null,
   "metadata": {},
   "outputs": [],
   "source": []
  },
  {
   "cell_type": "code",
   "execution_count": null,
   "metadata": {},
   "outputs": [],
   "source": []
  },
  {
   "cell_type": "code",
   "execution_count": null,
   "metadata": {},
   "outputs": [],
   "source": []
  },
  {
   "cell_type": "code",
   "execution_count": null,
   "metadata": {},
   "outputs": [],
   "source": []
  },
  {
   "cell_type": "markdown",
   "metadata": {},
   "source": [
    "# Tuplas\n"
   ]
  },
  {
   "cell_type": "markdown",
   "metadata": {},
   "source": [
    "Las tuplas en Python son colecciones ordenadas e inmutables de elementos. Una vez creadas, no pueden modificarse."
   ]
  },
  {
   "cell_type": "code",
   "execution_count": 17,
   "metadata": {},
   "outputs": [],
   "source": [
    "# Crear una tupla vacía\n",
    "tupla_vacia = ()\n",
    "\n",
    "# Crear una tupla con elementos\n",
    "\n",
    "\n",
    "# Crear una tupla con un solo elemento\n"
   ]
  },
  {
   "cell_type": "code",
   "execution_count": null,
   "metadata": {},
   "outputs": [],
   "source": [
    "tupla = (1, 2, 3, 4, 5)\n",
    "\n",
    "# Acceder a un elemento por índice\n",
    "\n",
    "\n",
    "# Acceder al último elemento\n"
   ]
  },
  {
   "cell_type": "markdown",
   "metadata": {},
   "source": [
    "## Slicing en Tuplas"
   ]
  },
  {
   "cell_type": "markdown",
   "metadata": {},
   "source": [
    "\n",
    "El slicing en tuplas funciona de la misma manera que en listas."
   ]
  },
  {
   "cell_type": "code",
   "execution_count": null,
   "metadata": {},
   "outputs": [],
   "source": [
    "tupla = (1, 2, 3, 4, 5)\n",
    "\n",
    "# Obtener una subtupla\n",
    "\n",
    "print(subtupla)"
   ]
  },
  {
   "cell_type": "markdown",
   "metadata": {},
   "source": [
    "# Ejercicios"
   ]
  },
  {
   "cell_type": "markdown",
   "metadata": {},
   "source": [
    "1. Crea una tupla con los días de la semana.\n",
    "2. Accede al tercer día de la semana.\n",
    "3. Obtén una subtupla con los primeros tres días de la semana."
   ]
  },
  {
   "cell_type": "code",
   "execution_count": null,
   "metadata": {},
   "outputs": [],
   "source": []
  },
  {
   "cell_type": "code",
   "execution_count": null,
   "metadata": {},
   "outputs": [],
   "source": []
  },
  {
   "cell_type": "code",
   "execution_count": null,
   "metadata": {},
   "outputs": [],
   "source": []
  },
  {
   "cell_type": "markdown",
   "metadata": {},
   "source": []
  },
  {
   "cell_type": "markdown",
   "metadata": {},
   "source": [
    "### Resumen\n",
    "\n",
    "- **Listas**: Útiles para datos que pueden cambiar con frecuencia. Puedes agregar, eliminar y modificar elementos. Ejemplo: lista de tareas pendientes.\n",
    "- **Tuplas**: Útiles para datos que no deben cambiar. Son inmutables, lo que significa que no puedes modificar sus elementos una vez que se han creado. Ejemplo: coordenadas geográficas."
   ]
  },
  {
   "cell_type": "markdown",
   "metadata": {},
   "source": [
    "Supongamos que queremos crear una lista de tareas pendientes. Las listas son útiles aquí porque las tareas pueden cambiar: podemos agregar, eliminar o modificar tareas según sea necesario."
   ]
  },
  {
   "cell_type": "code",
   "execution_count": 23,
   "metadata": {},
   "outputs": [],
   "source": [
    "# Crear una lista de tareas\n",
    "tareas = [\"Comprar leche\", \"Llamar al doctor\", \"Enviar correo\"]\n",
    "\n",
    "# Agregar una nueva tarea\n",
    "\n",
    "# Eliminar una tarea que ya se completó\n",
    "\n",
    "# Modificar una tarea\n"
   ]
  },
  {
   "cell_type": "markdown",
   "metadata": {},
   "source": [
    "Supongamos que queremos almacenar las coordenadas geográficas (latitud y longitud) de una ubicación específica. Estas coordenadas no cambiarán, por lo que usar una tupla es adecuado.\n"
   ]
  },
  {
   "cell_type": "code",
   "execution_count": 24,
   "metadata": {},
   "outputs": [
    {
     "name": "stdout",
     "output_type": "stream",
     "text": [
      "Latitud: 40.712776\n",
      "Longitud: -74.005974\n"
     ]
    }
   ],
   "source": [
    "# Crear una tupla con las coordenadas geográficas\n",
    "coordenadas = (40.712776, -74.005974)\n",
    "\n",
    "# Acceder a los valores de la tupla\n",
    "latitud = coordenadas[0]\n",
    "longitud = coordenadas[1]\n",
    "\n",
    "# Mostrar las coordenadas\n",
    "print(f\"Latitud: {latitud}\")\n",
    "print(f\"Longitud: {longitud}\")\n"
   ]
  },
  {
   "cell_type": "code",
   "execution_count": null,
   "metadata": {},
   "outputs": [],
   "source": []
  }
 ],
 "metadata": {
  "kernelspec": {
   "display_name": "Diplomado",
   "language": "python",
   "name": "python3"
  },
  "language_info": {
   "codemirror_mode": {
    "name": "ipython",
    "version": 3
   },
   "file_extension": ".py",
   "mimetype": "text/x-python",
   "name": "python",
   "nbconvert_exporter": "python",
   "pygments_lexer": "ipython3",
   "version": "3.10.14"
  }
 },
 "nbformat": 4,
 "nbformat_minor": 2
}
