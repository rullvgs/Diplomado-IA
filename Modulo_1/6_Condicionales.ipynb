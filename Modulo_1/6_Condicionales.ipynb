{
 "cells": [
  {
   "cell_type": "markdown",
   "metadata": {},
   "source": [
    "# CONDICIONALES"
   ]
  },
  {
   "cell_type": "code",
   "execution_count": 1,
   "metadata": {},
   "outputs": [
    {
     "name": "stdout",
     "output_type": "stream",
     "text": [
      "Aviso por alta temperatura\n"
     ]
    }
   ],
   "source": [
    "temperatura = 40\n",
    "if temperatura > 35: print('Aviso por alta temperatura')"
   ]
  },
  {
   "cell_type": "code",
   "execution_count": 2,
   "metadata": {},
   "outputs": [
    {
     "name": "stdout",
     "output_type": "stream",
     "text": [
      "Alerta rojo\n"
     ]
    }
   ],
   "source": [
    "if temperatura < 20:\n",
    "    if temperatura < 10:\n",
    "        print('Alerta azul')\n",
    "    else:\n",
    "        print('Alerta verde')\n",
    "else:\n",
    "    if temperatura < 30:\n",
    "        print('Alerta naranja')\n",
    "    else:\n",
    "        print('Alerta rojo')"
   ]
  },
  {
   "cell_type": "code",
   "execution_count": 3,
   "metadata": {},
   "outputs": [
    {
     "name": "stdout",
     "output_type": "stream",
     "text": [
      "Alerta verde\n"
     ]
    }
   ],
   "source": [
    "temperatura = 19\n",
    "if temperatura < 10:\n",
    "    print('Alerta azul')\n",
    "elif temperatura < 20:\n",
    "    print('Alerta verde')\n",
    "elif temperatura <= 30:\n",
    "    print('Alerta Naranja')    \n",
    "else:\n",
    "    print('Alerta verde')\n"
   ]
  },
  {
   "cell_type": "code",
   "execution_count": null,
   "metadata": {},
   "outputs": [],
   "source": []
  }
 ],
 "metadata": {
  "kernelspec": {
   "display_name": "Diplomado",
   "language": "python",
   "name": "python3"
  },
  "language_info": {
   "codemirror_mode": {
    "name": "ipython",
    "version": 3
   },
   "file_extension": ".py",
   "mimetype": "text/x-python",
   "name": "python",
   "nbconvert_exporter": "python",
   "pygments_lexer": "ipython3",
   "version": "3.10.14"
  }
 },
 "nbformat": 4,
 "nbformat_minor": 2
}
